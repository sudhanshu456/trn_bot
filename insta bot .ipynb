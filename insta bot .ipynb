{
 "cells": [
  {
   "cell_type": "code",
   "execution_count": 123,
   "id": "5039c20d",
   "metadata": {},
   "outputs": [],
   "source": [
    "import selenium\n",
    "import time\n",
    "import string\n",
    "import random\n",
    "from concurrent import futures\n",
    "\n",
    "import re\n",
    "from selenium.webdriver.support.ui import Select\n",
    "from os import cpu_count\n",
    "\n",
    "from selenium import webdriver\n",
    "from selenium.webdriver.common.keys import Keys\n",
    "\n",
    "options = webdriver.ChromeOptions()\n",
    "options.add_argument('--headless')\n",
    "options.add_argument('--no-sandbox')\n",
    "options.add_argument('--disable-dev-shm-usage')\n"
   ]
  },
  {
   "cell_type": "code",
   "execution_count": 124,
   "id": "68a089b2",
   "metadata": {},
   "outputs": [],
   "source": [
    "while True:\n",
    "    browser = webdriver.Chrome(\n",
    "    options=options\n",
    "    )\n",
    "    # https://tempail.com/en/mail_525695417/\n",
    "    # browser.execute_script(\"window.open('about:blank','firsttab');\")\n",
    "    browser.get('https://instagram.com/')\n",
    "    # browser.execute_script(\"window.open('https://instagram.com/','secondtab');\")\n",
    "    # browser.switch_to.window(\"insta\")\n",
    "    browser.execute_script(\"window.open('https://tempail.com/','firsttab');\")\n",
    "    # browser.get('https://tempail.com/en/mail_525695417/')\n",
    "    time.sleep(5)\n",
    "    browser.switch_to.window(browser.window_handles[1])\n",
    "    # get mail id \n",
    "    email_id = browser.find_element_by_xpath('//*[@id=\"eposta_adres\"]')\n",
    "    email = email_id.get_attribute('value')\n",
    "    print(email)\n",
    "    browser.switch_to.window(browser.window_handles[0])\n",
    "    signup = browser.find_element_by_xpath('//*[@id=\"react-root\"]/section/main/article/div[2]/div[2]/div/p/a/span')\n",
    "    signup.click()\n",
    "    email_field = browser.find_element_by_xpath('//*[@id=\"react-root\"]/section/main/div/div/div[1]/div/form/div[3]/div/label/input')\n",
    "    name = email.split('@')[0]\n",
    "    email_field.send_keys(email)\n",
    "    # email_field.send_keys(Keys.TAB)\n",
    "\n",
    "    full_name_field = browser.find_element_by_xpath('//*[@id=\"react-root\"]/section/main/div/div/div[1]/div/form/div[4]/div/label/input')\n",
    "    full_name_field = full_name_field.send_keys(name)\n",
    "\n",
    "    user_name_field = browser.find_element_by_xpath('//*[@id=\"react-root\"]/section/main/div/div/div[1]/div/form/div[5]/div/label/input')\n",
    "    user_name = name + ''.join(random.choice(string.ascii_uppercase + string.digits) for _ in range(8))\n",
    "    user_name_field.send_keys(user_name)\n",
    "    user_name = user_name+'@TR89jj89N'\n",
    "    password_field = browser.find_element_by_xpath('//*[@id=\"react-root\"]/section/main/div/div/div[1]/div/form/div[6]/div/label/input')\n",
    "    password_field.send_keys('qwerty123@QWERTY')\n",
    "\n",
    "    sign_up_button = browser.find_element_by_xpath('//*[@id=\"react-root\"]/section/main/div/div/div[1]/div/form/div[7]/div/button')\n",
    "\n",
    "    sign_up_button.click()\n",
    "    time.sleep(1)\n",
    "    dropdown_month =  Select(browser.find_element_by_xpath('//*[@id=\"react-root\"]/section/main/div/div/div[1]/div/div[4]/div/div/span/span[1]/select')) \n",
    "    dropdown_month.select_by_visible_text('July')\n",
    "    date_field = Select(browser.find_element_by_xpath('//*[@id=\"react-root\"]/section/main/div/div/div[1]/div/div[4]/div/div/span/span[2]/select'))\n",
    "    date_field.select_by_visible_text('12')\n",
    "    year_field = Select(browser.find_element_by_xpath('//*[@id=\"react-root\"]/section/main/div/div/div[1]/div/div[4]/div/div/span/span[3]/select'))\n",
    "    year_field.select_by_visible_text('1998')\n",
    "    next_button  = browser.find_element_by_xpath('//*[@id=\"react-root\"]/section/main/div/div/div[1]/div/div[6]/button')\n",
    "    next_button.click()\n",
    "    browser.switch_to.window(browser.window_handles[1])\n",
    "\n",
    "    time.sleep(10)\n",
    "    verify_code = browser.find_element_by_class_name('mailler')\n",
    "\n",
    "    verify_code_int = re.findall('\\d+', verify_code.text )[0]\n",
    "    print(verify_code_int)\n",
    "    browser.switch_to.window(browser.window_handles[0])\n",
    "    verify_code_field = browser.find_element_by_xpath('//*[@id=\"react-root\"]/section/main/div/div/div[1]/div[2]/form/div/div[1]/input')\n",
    "    verify_code_field.send_keys(verify_code_int)\n",
    "    confirmation_button=browser.find_element_by_xpath('//*[@id=\"react-root\"]/section/main/div/div/div[1]/div[2]/form/div/div[2]/button')\n",
    "\n",
    "    confirmation_button.click()\n",
    "    time.sleep(10)\n",
    "\n",
    "    browser.get('https://www.instagram.com/p/CVbyYbFh6Zv/')\n",
    "    like_button = browser.find_element_by_xpath('//*[@id=\"react-root\"]/section/main/div/div[1]/article/div/div[2]/div/div[2]/section[1]/span[1]/button').click()"
   ]
  },
  {
   "cell_type": "code",
   "execution_count": 125,
   "id": "5720a740",
   "metadata": {},
   "outputs": [],
   "source": []
  },
  {
   "cell_type": "code",
   "execution_count": 127,
   "id": "e8049717",
   "metadata": {},
   "outputs": [
    {
     "data": {
      "text/plain": [
       "[]"
      ]
     },
     "execution_count": 127,
     "metadata": {},
     "output_type": "execute_result"
    }
   ],
   "source": []
  },
  {
   "cell_type": "code",
   "execution_count": null,
   "id": "348fc684",
   "metadata": {},
   "outputs": [],
   "source": []
  }
 ],
 "metadata": {
  "kernelspec": {
   "display_name": "Python 3 (ipykernel)",
   "language": "python",
   "name": "python3"
  },
  "language_info": {
   "codemirror_mode": {
    "name": "ipython",
    "version": 3
   },
   "file_extension": ".py",
   "mimetype": "text/x-python",
   "name": "python",
   "nbconvert_exporter": "python",
   "pygments_lexer": "ipython3",
   "version": "3.9.7"
  }
 },
 "nbformat": 4,
 "nbformat_minor": 5
}
